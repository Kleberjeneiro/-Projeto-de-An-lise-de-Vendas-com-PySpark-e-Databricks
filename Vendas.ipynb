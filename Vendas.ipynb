{
 "cells": [
  {
   "cell_type": "code",
   "execution_count": 0,
   "metadata": {
    "application/vnd.databricks.v1+cell": {
     "cellMetadata": {
      "byteLimit": 2048000,
      "rowLimit": 10000
     },
     "inputWidgets": {},
     "nuid": "b5d6ce91-9fb0-474d-b920-2d3a7e697404",
     "showTitle": false,
     "tableResultSettingsMap": {},
     "title": ""
    }
   },
   "outputs": [
    {
     "output_type": "stream",
     "name": "stdout",
     "output_type": "stream",
     "text": [
      "+--------+---------------+-----------------+\n|Produtos|Total_Quant_Vnd|Total_Valor_Venda|\n+--------+---------------+-----------------+\n|  Caneta|            140|            212.5|\n| Caderno|             50|           100.99|\n| Mochila|             15|           300.25|\n+--------+---------------+-----------------+\n\n"
     ]
    }
   ],
   "source": [
    "# importa a função sum da biblioteca pyspark.sql.functions\n",
    "from pyspark.sql import SparkSession\n",
    "from pyspark.sql.functions import sum, round\n",
    "# Inicializando o SparkSession\n",
    "spark = SparkSession.builder.appName(\"Exemplo\").getOrCreate()\n",
    "\n",
    "# Definindo o esquema\n",
    "schema = \"Produtos STRING,Quant_Vnd INT, Valor_Venda FLOAT\"\n",
    "# Dados de vendas\n",
    "vendas = [\n",
    "    [\"Caneta\", 20, 12.50],\n",
    "    [\"Caderno\", 50, 100.99],\n",
    "    [\"Caneta\", 120, 200.00],\n",
    "    [\"Mochila\", 15, 300.25]\n",
    "]\n",
    "# Criando o DataFrame\n",
    "df = spark.createDataFrame(vendas, schema)\n",
    "# Agregação: soma das quantidades e dos valores de venda por produto, com arredondamento\n",
    "agrupado = df.groupBy(\"Produtos\").agg(\n",
    "    sum(\"Quant_Vnd\").alias(\"Total_Quant_Vnd\"),\n",
    "    round(sum(\"Valor_Venda\"), 2).alias(\"Total_Valor_Venda\")  # Arredonda para 2 casas decimais\n",
    ")\n",
    "# Exibindo o resultado\n",
    "agrupado.show()"
   ]
  }
 ],
 "metadata": {
  "application/vnd.databricks.v1+notebook": {
   "computePreferences": null,
   "dashboards": [],
   "environmentMetadata": {
    "base_environment": "",
    "client": "1"
   },
   "language": "python",
   "notebookMetadata": {
    "pythonIndentUnit": 4
   },
   "notebookName": "Vendas",
   "widgets": {}
  }
 },
 "nbformat": 4,
 "nbformat_minor": 0
}
